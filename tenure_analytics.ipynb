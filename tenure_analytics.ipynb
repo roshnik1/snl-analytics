{
 "cells": [
  {
   "cell_type": "code",
   "execution_count": 2,
   "metadata": {},
   "outputs": [],
   "source": [
    "import pandas as pd"
   ]
  },
  {
   "cell_type": "code",
   "execution_count": 3,
   "metadata": {},
   "outputs": [],
   "source": [
    "# Load relevant CSV files\n",
    "actors = pd.read_csv('data/actors.csv')\n",
    "appearances = pd.read_csv('data/appearances.csv')\n",
    "episodes = pd.read_csv('data/episodes.csv')\n",
    "tenure = pd.read_csv('data/tenure.csv')"
   ]
  },
  {
   "cell_type": "code",
   "execution_count": 4,
   "metadata": {},
   "outputs": [],
   "source": [
    "# Filter for only cast members\n",
    "cast_members = actors[actors['type'] == 'cast']\n",
    "\n",
    "# Merge tenure with actors to get full names\n",
    "combined_data = tenure.merge(cast_members, on='aid', how='left')"
   ]
  },
  {
   "cell_type": "code",
   "execution_count": 5,
   "metadata": {},
   "outputs": [],
   "source": [
    "# Prepare the summary DataFrame\n",
    "summary = combined_data[['aid', 'n_seasons', 'n_episodes']]\n",
    "summary.columns = ['aid', 'Number_of_Seasons', 'Number_of_Episodes']"
   ]
  },
  {
   "cell_type": "code",
   "execution_count": null,
   "metadata": {},
   "outputs": [],
   "source": [
    "# Extract first and last names\n",
    "summary['First_Name'] = summary['aid'].str.split(' ').str[0]  # Extract first name\n",
    "summary['Last_Name'] = summary['aid'].str.split(' ').str[1]   # Extract last name\n",
    "\n",
    "summary.head()"
   ]
  },
  {
   "cell_type": "code",
   "execution_count": 7,
   "metadata": {},
   "outputs": [],
   "source": [
    "# Drop unnecessary columns and arrange the DataFrame\n",
    "summary = summary[['aid', 'First_Name', 'Last_Name', 'Number_of_Seasons']]"
   ]
  },
  {
   "cell_type": "code",
   "execution_count": null,
   "metadata": {},
   "outputs": [],
   "source": [
    "summary.head()"
   ]
  },
  {
   "cell_type": "code",
   "execution_count": null,
   "metadata": {},
   "outputs": [],
   "source": [
    "# Merge appearances with episodes to get aired date for each appearance\n",
    "merged_data = appearances.merge(episodes, on='epid', how='left')\n",
    "\n",
    "merged_data.head()"
   ]
  },
  {
   "cell_type": "code",
   "execution_count": 10,
   "metadata": {},
   "outputs": [],
   "source": [
    "# Convert 'aired' column to datetime (format: 'April 10, 2021')\n",
    "merged_data['aired'] = pd.to_datetime(merged_data['aired'], format='%B %d, %Y')"
   ]
  },
  {
   "cell_type": "code",
   "execution_count": 11,
   "metadata": {},
   "outputs": [],
   "source": [
    "# Extract the year from the 'aired' column\n",
    "merged_data['Year'] = merged_data['aired'].dt.year"
   ]
  },
  {
   "cell_type": "code",
   "execution_count": null,
   "metadata": {},
   "outputs": [],
   "source": [
    "merged_data.head()"
   ]
  },
  {
   "cell_type": "code",
   "execution_count": null,
   "metadata": {},
   "outputs": [],
   "source": [
    "# Merge with tenure data to get actor information\n",
    "combined_data = merged_data.merge(tenure, on='aid', how='left')\n",
    "\n",
    "# Filter for only cast members\n",
    "combined_data = combined_data[combined_data['capacity'] == 'cast']\n",
    "\n",
    "combined_data.head()"
   ]
  },
  {
   "cell_type": "code",
   "execution_count": null,
   "metadata": {},
   "outputs": [],
   "source": [
    "# Calculate the first and last year for each actor\n",
    "first_last_years = combined_data.groupby('aid').agg(\n",
    "    First_Year=('Year', 'min'),\n",
    "    Last_Year=('Year', 'max'),\n",
    ").reset_index()\n",
    "\n",
    "first_last_years"
   ]
  },
  {
   "cell_type": "code",
   "execution_count": null,
   "metadata": {},
   "outputs": [],
   "source": [
    "# Add number of seasons for each actor from tenure\n",
    "number_of_seasons = combined_data[['aid', 'n_seasons']].drop_duplicates()\n",
    "first_last_years = first_last_years.merge(number_of_seasons, on='aid', how='left')\n",
    "\n",
    "first_last_years"
   ]
  },
  {
   "cell_type": "code",
   "execution_count": null,
   "metadata": {},
   "outputs": [],
   "source": [
    "# Merge this back with actors to get full names\n",
    "final_summary = first_last_years.merge(summary, on='aid', how='left')\n",
    "\n",
    "final_summary.head()"
   ]
  },
  {
   "cell_type": "code",
   "execution_count": 17,
   "metadata": {},
   "outputs": [],
   "source": [
    "# Selecting relevant columns\n",
    "final_summary = final_summary[['aid', 'First_Name', 'Last_Name', 'First_Year', 'Last_Year', 'n_seasons']]"
   ]
  },
  {
   "cell_type": "code",
   "execution_count": 18,
   "metadata": {},
   "outputs": [],
   "source": [
    "# Remove rows with NaN values\n",
    "final_summary = final_summary.dropna()"
   ]
  },
  {
   "cell_type": "code",
   "execution_count": null,
   "metadata": {},
   "outputs": [],
   "source": [
    "# Inspecting the final DataFrame\n",
    "print(final_summary.head())"
   ]
  },
  {
   "cell_type": "code",
   "execution_count": 20,
   "metadata": {},
   "outputs": [],
   "source": [
    "# Save to CSV for Tableau\n",
    "final_summary.to_csv('snl_cast_years_summary.csv', index=False)"
   ]
  },
  {
   "cell_type": "code",
   "execution_count": null,
   "metadata": {},
   "outputs": [],
   "source": [
    "merged_data.head()"
   ]
  },
  {
   "cell_type": "code",
   "execution_count": 32,
   "metadata": {},
   "outputs": [],
   "source": [
    "# Rename a column\n",
    "merged_data['sid'] = merged_data['sid_x']\n"
   ]
  },
  {
   "cell_type": "code",
   "execution_count": 34,
   "metadata": {},
   "outputs": [],
   "source": [
    "# Select relevant columns\n",
    "merged_data = merged_data[['aid', 'tid', 'capacity', 'epid', 'epno', 'sid', 'Year']]"
   ]
  },
  {
   "cell_type": "code",
   "execution_count": null,
   "metadata": {},
   "outputs": [],
   "source": [
    "merged_data.head()"
   ]
  },
  {
   "cell_type": "code",
   "execution_count": 36,
   "metadata": {},
   "outputs": [],
   "source": [
    "merged_data.to_csv('cast_summary.csv', index=False)"
   ]
  }
 ],
 "metadata": {
  "kernelspec": {
   "display_name": "Python 3",
   "language": "python",
   "name": "python3"
  },
  "language_info": {
   "codemirror_mode": {
    "name": "ipython",
    "version": 3
   },
   "file_extension": ".py",
   "mimetype": "text/x-python",
   "name": "python",
   "nbconvert_exporter": "python",
   "pygments_lexer": "ipython3",
   "version": "3.10.0"
  }
 },
 "nbformat": 4,
 "nbformat_minor": 2
}
